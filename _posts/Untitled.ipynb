{
 "cells": [
  {
   "cell_type": "markdown",
   "metadata": {},
   "source": [
    "## Introduction\n",
    "Maximum likelihood estimation (MLE) is a way of estimating\n",
    "the parameters of a statistic model given observation.\n",
    "It is conducted to find the parameters that maximizing the\n",
    "likelihood of observations under certain model distribution\n",
    "assumptions. However, in many real life problems, we are\n",
    "dealing with problems with parameters that are not directly\n",
    "available to infer given the limited data we have, which\n",
    "are called **hidden variables Z**. Many problems in the\n",
    "areas of genomics involves dealing with hidden variables.\n",
    "Typical examples in genomics are (i) inferring microbial\n",
    "communities (Z: different communities) (ii) inferring the\n",
    "ancestries of a set of population (Z: different ancestries) (iii)\n",
    "inferring the cell type content from certain sequencing data\n",
    "(Z: different cell types). Problems involving hidden variables\n",
    "like these are typically hard to directly performing maximum\n",
    "likelihood estimation.\n",
    "\n",
    "### Motivating example\n",
    "I find using an application to motivate the abstract math formular is more intuitive to understand. So before going to any math detail let's use the popular 1000 Genome dataset as an example. In the example dataset, we have ~1000 individuals (n) from difference ancestries, each individual has a total of ~13k carefully selected SNPs (m). Formally, let's denote it as **X**, which is a $ n \\times m $ matrix with value $\\{0, 1\\}$, or the haplotype matrix. The objective is to learn, without given explictly, the ancestry of each individual in an unsupervised approach."
   ]
  },
  {
   "cell_type": "markdown",
   "metadata": {},
   "source": [
    "### EM algorithm\n",
    "Let's assume we believe there are $K$ difference ancestries. Denote $\\pmb{X}_{i,j}$ as the genotype data of individual $i$ at SNP $j$. Let's say the $j^{th}$ SNP in individual $i$ is passed by ancestry $k$, and ancestry group $k$ has $f_{k,j}$ chance to pass a value $1$ at SNP $j$ to the offspring. Let's denote $\\pmb{Z}$ as a  ancestry matrix of each individual, so that $\\pmb{Z}_{i,k} = 1$ means individual $i$ belongs to the ancestry group $k$. The prior distribution of $\\pmb{Z}$ is determined a multivariate normal distribution characterized by $\\pmb{\\pi}$. (If you are wondering why we are making all these assumptions, please check my Li-Stephens HMM blog for more details). \n",
    "Mathematically:\n",
    "\\begin{align}\n",
    "     \\pmb{Z}_{i}|\\pmb{\\pi} \\overset{iid}{\\sim} Mult(\\pmb{\\pi}) \\\\\n",
    "    \\pmb{X}_{i,j} | (\\pmb{Z}_{i,k} = 1) \\sim Ber(f_{j,k})\n",
    "\\end{align}\n",
    "\n",
    "Given we have the ancestry information matrix $\\pmb{Z}$, solving for parameter parameter $f_{k,j}$ is easy:\n",
    "\n",
    "\\begin{align}\n",
    "    P(\\pmb{X}, \\pmb{Z} | \\pmb{f},\\pmb{\\pi}) & = P(\\pmb{X}| \\pmb{Z}, \\pmb{f}, \\pmb{\\pi}) P(\\pmb{Z}|  \\pmb{f},\\pmb{\\pi}) = \\prod_{i=1}^N P(\\pmb{X}_i| \\pmb{Z}_i, \\pmb{f},\\pmb{\\pi}) \\\\ &= \\prod_{i=1}^N \\prod_{k=1}^K \\pi_{k}P(\\pmb{X}_i| \\pmb{Z}_{i,k} = 1)^{\\mathbb{1}[\\pmb{Z}_{i,k}=1]}  \n",
    "\\end{align}\n",
    "Which you can solve using Maximum Likelihood Estimation (MLE) easily. For simplicity, let's use $\\pmb{\\theta}$ to be the parameters we want to learn above. To rewrite the above equation in log form, we have\n",
    "\\begin{align}\n",
    "    log(P(\\pmb{X}, \\pmb{Z} | \\pmb{\\theta}) & = \\sum_{i=1}^n\\sum_{k=1}^K \\mathbb{1}[\\pmb{Z}_{i,k}=1]log(\\pi_k\\prod_{j=1}^m p(x_{i,j} | f_{j,k}))\n",
    "\\end{align}\n",
    "\n",
    "\n",
    "\n",
    "What makes it hard is when we do not observe the ancestry groups $\\pmb{Z}$. Then we need to infer the probability of ancestry given the observation $\\pmb{X}$: $P(\\pmb{Z} | \\pmb{X}, \\pmb{\\theta} )$. But this requres us to know $\\pmb{\\theta}$ first! This comes to the first step of EM algorithm: **initialize the parameters** as $\\pmb{\\theta}^{(0)}$. After we *cheat* the posterior $P(\\pmb{Z} | \\pmb{X}, \\pmb{\\theta}^{(0)} )$, we can form the complete data likelihood to learn the updated parameter $\\pmb{\\theta}$:\n",
    "\\begin{align*}\n",
    "    & Q(\\pmb{\\theta}, \\pmb{\\theta}^{(0)}) = E_Z[log(p(\\pmb{X}, \\pmb{Z}| \\theta))] \n",
    "    \\\\&= \\sum_{i=1}^n\\sum_{k=1}^K P(z_k|x_{i}, \\pmb{\\theta}^{(0)})log(\\pi_k\\prod_{j=1}^m p(x_{i,j} | f_{j,k}))\n",
    "\\end{align*}\n",
    "\n",
    "and the *cheated*  posterior can be learned as\n",
    "\\begin{align*}\n",
    "    &P(\\pmb{Z} | \\pmb{X}, \\pmb{\\theta}^{(0)} ) =\\frac{P(x_i| z_k, \\pmb{\\theta}^{(0)})P(z_k|\\pmb{\\theta}^{(0)})}{P(x_i| \\pmb{\\theta}^{(0)})} \\\\\n",
    "    & = \\frac{\\pi_k \\prod_{j=1}^mf_{i,j}^{x_{i,j}}(1-f_{i,j})^{1-x_{i,j}}}{\\sum_{k=1}^K\\pi_k \\prod_{j=1}^mf_{i,j}^{x_{i,j}}(1-f_{i,j})^{1-x_{i,j}}}\n",
    "\\end{align*}\n",
    "\n",
    "\n",
    "\n"
   ]
  },
  {
   "cell_type": "code",
   "execution_count": null,
   "metadata": {},
   "outputs": [],
   "source": []
  }
 ],
 "metadata": {
  "kernelspec": {
   "display_name": "Python 3",
   "language": "python",
   "name": "python3"
  },
  "language_info": {
   "codemirror_mode": {
    "name": "ipython",
    "version": 3
   },
   "file_extension": ".py",
   "mimetype": "text/x-python",
   "name": "python",
   "nbconvert_exporter": "python",
   "pygments_lexer": "ipython3",
   "version": "3.8.5"
  },
  "latex_envs": {
   "LaTeX_envs_menu_present": true,
   "autoclose": false,
   "autocomplete": true,
   "bibliofile": "biblio.bib",
   "cite_by": "apalike",
   "current_citInitial": 1,
   "eqLabelWithNumbers": true,
   "eqNumInitial": 1,
   "hotkeys": {
    "equation": "Ctrl-E",
    "itemize": "Ctrl-I"
   },
   "labels_anchors": false,
   "latex_user_defs": false,
   "report_style_numbering": false,
   "user_envs_cfg": false
  }
 },
 "nbformat": 4,
 "nbformat_minor": 4
}
