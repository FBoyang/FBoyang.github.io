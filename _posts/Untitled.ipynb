{
 "cells": [
  {
   "attachments": {},
   "cell_type": "markdown",
   "metadata": {},
   "source": [
    "## Introduction\n",
    "Hidden Markov Models (HMMs) are powerful tools for analyzing sequential data and have applications in various fields such as speech recognition, natural language processing, and bioinformatics. Li-Stephen's HMM \\[[Paper](\n",
    "(https://pubmed.ncbi.nlm.nih.gov/14704198/))\\] is a specific variant of HMMs that is particularly useful for genetic studies, specifically in haplotype reconstruction and genotype imputation.\n",
    "\n",
    "Imputation (namely to infer the missingness of the data) in genetics is important. One of the most popular imputation algorithms used to impute the missing SNPs is the Li-Stephen's HMM algorithm  \n",
    "\n",
    "*Prerequisite: Hidden markov model. There are various excellent tutorials on the related topic, please have a read of them before jumping into this blog.*"
   ]
  },
  {
   "attachments": {},
   "cell_type": "markdown",
   "metadata": {},
   "source": [
    "\n",
    "Let's start by understanding the main objective of Li-Stephen's HMM. The goal is to estimate the most likely set of haplotypes and recombination parameter given a set of observed genetic data. The observed data may contain uncertainties and missing information, which makes the estimation process challenging. Li-Stephen's HMM addresses this problem by formulating the estimation as a probabilistic inference task.\n",
    "\n",
    "To explain Li-Stephen's HMM, we'll break it down into several components and describe them in simpler terms.\n",
    "\n",
    "\n",
    "\n",
    "\n",
    "\n"
   ]
  },
  {
   "attachments": {},
   "cell_type": "markdown",
   "metadata": {},
   "source": [
    "#### Hidden Haplotypes and Recombination:\n",
    "\n",
    "In genetic studies, **haplotypes** represent the combinations of genetic variations (such as Single Nucleotide Polymorphisms - SNPs) that occur together on a single chromosome.\n",
    "Li-Stephen's HMM assumes that there are \"hidden\" haplotypes that we want to estimate based on the observed genetic data.\n",
    "**Recombination** refers to the process where genetic material is exchanged between chromosomes during reproduction.\n",
    "The **recombination parameter**, denoted as rho ($\\rho$), quantifies the rate of recombination and influences the similarity between haplotypes.\n",
    "We want to find the most likely set of hidden haplotypes and the optimal recombination parameter based on the observed data.\n",
    "\n",
    "#### Pseudo Algorithm:\n",
    "\n",
    "Li-Stephen's HMM uses a pseudo algorithm that approximates the conditional distributions of the hidden haplotypes given the recombination parameter. \n",
    "The algorithm is denoted as the product of approximate conditionals (PAC). Where $L_{PAC}(\\rho)$ represents the probability of observing the set of hidden haplotypes given a specific recombination parameter. Specifically:\n",
    "$$\n",
    "\\begin{align*}\n",
    "    Pr(h_1,..,h_n|\\rho)& \\approx \\hat{\\pi}(h_1|\\rho)\\hat{\\pi}(h_2|h_1;\\rho)...\\hat{\\pi}(h_n|h_1,...,h_{n-1};\\rho) \\\\ & = L_{PAC}(\\rho)\n",
    "\\end{align*}\n",
    "$$\n",
    "Notice here I use $\\hat{\\pi}$ instead $\\pi$ to denote the approximated conditional probability, because the exact computation of which can be expensive. More details in how $\\hat{\\pi}$ will be described later.  The goal is to find the value of $\\rho$ that maximizes $L_{PAC}(\\rho)$ , which provides the maximum likelihood estimate for the recombination parameter.\n",
    "Extending the Objective:\n",
    "$$\n",
    "\\begin{align*}\n",
    "    Pr(h_1,..,h_n, \\hat{\\rho}|\\theta)& \\approx \\hat{\\pi}(h_1,\\hat{\\rho}|\\theta)\\hat{\\pi}(h_2,\\hat{\\rho}|h_1;\\theta,)...\\hat{\\pi}(h_n,\\hat{\\rho}|h_1,...,h_{n-1};\\theta) \\\\ & = L_{PAC, \\hat{\\rho}}(\\theta)\n",
    "\\end{align*}\n",
    "$$\n",
    "\n",
    "To generalize the estimation process, we extend the objective to include the estimation of other parameters denoted as $\\theta$.\n",
    "The new objective is denoted as $L_{PAC, \\hat{\\rho}}(\\theta)$ and represents the probability of observing the hidden haplotypes and the parameter $\\theta$ based on the observed data.\n",
    "The goal is to find the value of $\\theta$ that maximizes $L_{PAC, \\hat{\\rho}}(\\theta)$, which provides the maximum likelihood estimate for the parameter θ.\n",
    "Optimal Value:\n",
    "\n",
    "Empirical studies have shown that the optimal value for the recombination parameter $\\rho$ is approximately exp(-0.6).\n",
    "This value maximizes the likelihood of observing the hidden haplotypes given the observed data.\n",
    "#### Formal description of $\\pi_A$:\n",
    "We assume that the distribution of the first haplotype is independent of $\\rho$, there are n sampled haplotypes, each has S biallelic loci (SNPs). So that all the $2^S$ possible haplotypes are equally likely, so $\\pi_A(h_1)=1/2^S$. $h_{k+1}$ is a imperfect mosaic of $h_1,..,h_k$ at that position. Let $X_j$ denotes which haplotype $h_{k+1}$ copies at site j (so $X_j\\in \\{1,2,...,k\\}$). To mimic the effects of recombination, let's model $X_j$ as a Markov chain on $\\{1,...,k\\}$, with $Pr(X_1=x) = 1/k$. \n",
    "\n",
    "$$\n",
    "\\begin{align*}\n",
    "    Pr(X_{j+1}=x'|X_j=x) = \\begin{cases}\n",
    "    exp(-\\rho_j d_j/k)+(1-exp(-\\rho_jd_j/k))(1/k)  \\text{ if $x'=x$}\\\\\n",
    "    (1-exp(-\\rho_jd_j/k))(1/k) \\text{ otherwise}\n",
    "    \\end{cases}\n",
    "\\end{align*}\n",
    "$$\n",
    "\n",
    "In Li-Stephen's HMM, the distribution of the first haplotype is assumed to be independent of the recombination parameter $\\rho$.\n",
    "The distribution of haplotypes follows a Markov chain model, where each new haplotype is a \"mosaic\" of previous haplotypes at specific positions.\n",
    "\n",
    "The Markov chain model is defined by the transition probabilities $$Pr(X_{j+1}=x'|X_j=x)$$, which depend on the physical distance between genetic markers and the recombination parameter $\\rho$.\n",
    "\n",
    "\n",
    "\n",
    "The average rate of crossover per unit physical distance is denoted as $c_j$, and the effective population size is denoted as $N$. The recombination rate at position $j$, $ρ_j$, is calculated as $4Nc_j$.\n"
   ]
  },
  {
   "attachments": {},
   "cell_type": "markdown",
   "metadata": {},
   "source": []
  }
 ],
 "metadata": {
  "kernelspec": {
   "display_name": "Python 3",
   "language": "python",
   "name": "python3"
  },
  "language_info": {
   "codemirror_mode": {
    "name": "ipython",
    "version": 3
   },
   "file_extension": ".py",
   "mimetype": "text/x-python",
   "name": "python",
   "nbconvert_exporter": "python",
   "pygments_lexer": "ipython3",
   "version": "3.8.5"
  },
  "latex_envs": {
   "LaTeX_envs_menu_present": true,
   "autoclose": false,
   "autocomplete": true,
   "bibliofile": "biblio.bib",
   "cite_by": "apalike",
   "current_citInitial": 1,
   "eqLabelWithNumbers": true,
   "eqNumInitial": 1,
   "hotkeys": {
    "equation": "Ctrl-E",
    "itemize": "Ctrl-I"
   },
   "labels_anchors": false,
   "latex_user_defs": false,
   "report_style_numbering": false,
   "user_envs_cfg": false
  }
 },
 "nbformat": 4,
 "nbformat_minor": 4
}
